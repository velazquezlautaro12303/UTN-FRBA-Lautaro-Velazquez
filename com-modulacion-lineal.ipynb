{
 "cells": [
  {
   "cell_type": "markdown",
   "metadata": {},
   "source": [
    "#### Modulación Lineal y Multiplexación por División de Frecuencia.\n",
    "\n",
    "### Problema 1\n",
    "\n",
    "<img src=\"image38.png\">\n",
    "\n",
    "$$s(t)=A_C[1+m(t)]cos(w_Ct)$$\n",
    "$$A_C=\\frac{A_{MAX}-A_{MIN}}{2}+A_{MIN}=11V$$\n",
    "$$V_p=1.2V$$\n",
    "$$A_{MAX}=A_C2.2=>A_C=9.0909V$$\n"
   ]
  }
 ],
 "metadata": {
  "language_info": {
   "name": "python"
  }
 },
 "nbformat": 4,
 "nbformat_minor": 2
}
