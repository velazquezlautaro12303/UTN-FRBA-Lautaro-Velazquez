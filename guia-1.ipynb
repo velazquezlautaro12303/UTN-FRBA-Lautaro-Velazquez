{
 "cells": [
  {
   "cell_type": "markdown",
   "metadata": {},
   "source": [
    "#### GUIA 1 : Medidas Electronicas 1 Utn FRBA\n",
    "\n",
    "### Ejercicio 1\n",
    "\n",
    "<img src=\"image2.png\">"
   ]
  },
  {
   "cell_type": "code",
   "execution_count": 20,
   "metadata": {},
   "outputs": [
    {
     "name": "stdout",
     "output_type": "stream",
     "text": [
      "Analisis Tipo A\n",
      "u_i(V) = 0.33\n",
      "Analisis Tipo B\n",
      "u_j(V) = 0.46\n",
      "Analisis Incentidumbre Combinada\n",
      "u_c(V) = 0.57\n",
      "Calculo de Veff (Grados efectivos de libertad)\n",
      "V_eff = 162.88\n",
      "Suponiendo q es Tipo B dominante!\n",
      "u_i/u_j = 0.72\n",
      "RESULTADO!\n",
      "V = 100.14 +- 1.08 @ 95%; k = 1.90\n"
     ]
    }
   ],
   "source": [
    "import numpy as np\n",
    "\n",
    "CANT_MEDICONES = 20\n",
    "V_MEAN = 100.145\n",
    "V_STD = 1.489\n",
    "\n",
    "RANGO = 200\n",
    "ERROR_LECTURA = 0.5\n",
    "ERROR_CUENTA = 3\n",
    "\n",
    "print(\"Analisis Tipo A\")\n",
    "\n",
    "u_i = V_STD / np.sqrt(CANT_MEDICONES)\n",
    "print(\"u_i(V) = %0.2f\" %u_i)\n",
    "\n",
    "print (\"Analisis Tipo B\")\n",
    "\n",
    "VOLTS_X_CUENTA = 199.9 / 1999\n",
    "ERROR_TIPO_B_TOTAL = (ERROR_LECTURA / 100) * V_MEAN + ERROR_CUENTA * VOLTS_X_CUENTA\n",
    "u_j = ERROR_TIPO_B_TOTAL / np.sqrt(3)\n",
    "\n",
    "print(\"u_j(V) = %0.2f\" %u_j)\n",
    "\n",
    "print (\"Analisis Incentidumbre Combinada\")\n",
    "\n",
    "u_c = np.sqrt(u_i**2 + u_j**2)\n",
    "\n",
    "print(\"u_c(V) = %0.2f\" %u_c)\n",
    "\n",
    "print (\"Calculo de Veff (Grados efectivos de libertad)\")\n",
    "\n",
    "V_eff = (u_c**4) / (u_i**4 / (CANT_MEDICONES - 1))\n",
    "\n",
    "print(\"V_eff = %.2f\" % V_eff)\n",
    "\n",
    "print (\"Suponiendo q es Tipo B dominante!\")\n",
    "\n",
    "print(f\"u_i/u_j = %.2f\" %(u_i/u_j))\n",
    "\n",
    "K = 1.9\n",
    "\n",
    "print (\"RESULTADO!\")\n",
    "\n",
    "print(\"V = %0.2f +- %0.2f @ 95%%; k = %0.2f\" %(V_MEAN, u_c * K, K))"
   ]
  },
  {
   "cell_type": "markdown",
   "metadata": {},
   "source": [
    "### Ejercicio 2\n",
    "\n",
    "<img src=\"image3.png\">"
   ]
  },
  {
   "cell_type": "code",
   "execution_count": 21,
   "metadata": {},
   "outputs": [
    {
     "name": "stdout",
     "output_type": "stream",
     "text": [
      "u_i_V = 0.0032\n",
      "u_i_I = 0.0095\n",
      "u_i_phi = 0.0008\n",
      "RESULTADO! PARA Z\n",
      "Z = (0.1277+0.2198j) +- (0.0179-0.0316j) @ 95%%; k = 2.87\n",
      "RESULTADO! PARA R\n",
      "R = (0.1277) +- (0.0002) @ 95%%; k = 2.87\n"
     ]
    }
   ],
   "source": [
    "V   = np.array([5.007, 4.994, 5.005, 4.990, 4.999])\n",
    "I   = np.array([19.663, 19.639, 19.640, 19.685, 19.678])\n",
    "PHI = np.array([1.0456, 1.0438, 1.0468, 1.0428, 1.0433])\n",
    "\n",
    "V_media = V.mean()\n",
    "I_media = I.mean()\n",
    "PHI_media = PHI.mean()\n",
    "\n",
    "u_i_V = V.std(ddof=1) / np.sqrt(V.size)\n",
    "u_i_I = I.std(ddof=1) / np.sqrt(I.size)\n",
    "u_i_PHI = PHI.std(ddof=1) / np.sqrt(PHI.size)\n",
    "\n",
    "print (\"u_i_V = %0.4f\\nu_i_I = %0.4f\\nu_i_phi = %0.4f\" %(u_i_V, u_i_I, u_i_PHI))\n",
    "\n",
    "CORRELACION_MATRIX = np.corrcoef([V,I,PHI])\n",
    "\n",
    "corr_VI = CORRELACION_MATRIX[0][1]\n",
    "corr_VPHI = CORRELACION_MATRIX[0][2]\n",
    "corr_IPHI = CORRELACION_MATRIX[1][2]\n",
    "\n",
    "print (\"RESULTADO! PARA Z\")\n",
    "\n",
    "Z_media = V_media / I_media * np.exp(1j * PHI_media)\n",
    "\n",
    "dZ_dV = 1 / Z_media\n",
    "dZ_dI = - V_media / I_media**2\n",
    "dZ_dPHI = 1j * Z_media * PHI_media * np.exp(1j * PHI_media)\n",
    "\n",
    "u_c_Z = np.sqrt((dZ_dV * u_i_V)**2 + (dZ_dI * u_i_I)**2 + (dZ_dPHI * u_i_PHI)**2 + 2 * (dZ_dV * dZ_dI * corr_VI * u_i_V * u_i_I + dZ_dV * dZ_dPHI * corr_VPHI * u_i_V * u_i_PHI + dZ_dI * dZ_dPHI * corr_IPHI * u_i_I * u_i_PHI))\n",
    "\n",
    "K = 2.87 # De tabla T-Student con vi = 4\n",
    "\n",
    "print (\"Z = ({:.4f}) +- ({:.4f}) @ 95%%; k = {:.2f}\".format(Z_media, u_c_Z * K, K))\n",
    "\n",
    "print (\"RESULTADO! PARA R\")\n",
    "\n",
    "R_media = np.abs(Z_media) * np.cos(PHI_media)\n",
    "\n",
    "dR_dV = np.cos(PHI_media) / I_media\n",
    "dR_dPHI = - np.abs(Z_media) * np.sin(PHI_media)\n",
    "dR_dI = - V_media / I_media**2 * np.cos(PHI_media)\n",
    "\n",
    "u_c_R = np.sqrt((dR_dV * u_i_V)**2 + (dR_dI * u_i_I)**2 + (dR_dPHI * u_i_PHI)**2 + 2 * (dR_dV * dR_dI * corr_VI * u_i_V * u_i_I + dR_dV * dR_dPHI * corr_VPHI * u_i_V * u_i_PHI + dR_dI * dR_dPHI * corr_IPHI * u_i_PHI * u_i_I))\n",
    "\n",
    "print (\"R = ({:.4f}) +- ({:.4f}) @ 95%%; k = {:.2f}\".format(R_media, u_c_R * K, K))\n"
   ]
  },
  {
   "cell_type": "markdown",
   "metadata": {},
   "source": [
    "### Ejercicio 3\n",
    "\n",
    "<img src=\"./image4.png\">"
   ]
  },
  {
   "cell_type": "code",
   "execution_count": 5,
   "metadata": {},
   "outputs": [
    {
     "name": "stdout",
     "output_type": "stream",
     "text": [
      "u_i = 0.0037 u_j = 0.7783\n",
      "V_eff = 7490339992.1450\n",
      "Dado q V_eff >> 30 => TIPO B dominante\n",
      "ui/uj = 0.004807227032130344 => de la tabla K = 1.655\n",
      "I = 10.0080 +- 1.2882 @ 95%%; k = 1.66\n"
     ]
    }
   ],
   "source": [
    "I = np.array([10.01, 10, 10.02, 10.01, 10])\n",
    "\n",
    "I_media = I.mean()\n",
    "\n",
    "u_i = I.std(ddof=1) / np.sqrt(I.size)\n",
    "\n",
    "ERROR_LECTURA = 0.05\n",
    "ERROR_I = 2\n",
    "ERROR_TIPO_B_TOTAL = (ERROR_LECTURA / 100) * I_media + ERROR_I\n",
    "u_j = ERROR_TIPO_B_TOTAL / 2.576 # el valor cte sale del 99% de la tabla\n",
    "\n",
    "u_c = np.sqrt(u_i**2 + u_j**2)\n",
    "\n",
    "V_eff = (u_c**4) / (u_i**4 / (len(I) - 1))\n",
    "\n",
    "print (f\"u_i = {u_i:.4f} u_j = {u_j:.4f}\")\n",
    "print (f\"V_eff = {V_eff:.4f}\")\n",
    "print (\"Dado q V_eff >> 30 => TIPO B dominante\")\n",
    "\n",
    "K = 1.655\n",
    "print (f\"ui/uj = {(u_i/u_j)} => de la tabla K = {K}\")\n",
    "print (\"I = {:.4f} +- {:.4f} @ 95%%; k = {:.2f}\".format(I_media, u_c * K, K))\n"
   ]
  },
  {
   "cell_type": "markdown",
   "metadata": {},
   "source": [
    "### Ejercicio 4\n",
    "\n",
    "<img src=\"./image10.png\">"
   ]
  },
  {
   "cell_type": "code",
   "execution_count": 45,
   "metadata": {},
   "outputs": [
    {
     "name": "stdout",
     "output_type": "stream",
     "text": [
      "Hallare R:\n",
      "R = 12.3380 +- 1.2402 @ 95%%; k = 2.00\n",
      "Potencia disipada:\n",
      "P = 1233.8000 +- 276.1726 @ 95%%; k = 2.00\n",
      "Hallare I:\n",
      "I = 0.0281 +- 0.0912 @ 95%%; k = 2.00\n",
      "Potencia disipada:\n",
      "P = 0.0097 +- 126.0467 @ 95%%; k = 2.00\n"
     ]
    }
   ],
   "source": [
    "# I Distribucion normal y confianza 95%\n",
    "I_MEAN = 10\n",
    "ERROR_I = .1\n",
    "\n",
    "V_MEAN = 123.38\n",
    "V_STD  = .05\n",
    "ERROR_DIGITOS = 1\n",
    "ERROR_LECTURE = .04\n",
    "\n",
    "print (\"Hallare R:\")\n",
    "\n",
    "# R = V/I\n",
    "R_MEAN = V_MEAN / I_MEAN\n",
    "\n",
    "u_i_V = V_STD\n",
    "u_j_V = (ERROR_LECTURA * V_MEAN / 100) + (399.99 * ERROR_DIGITOS / 39999)\n",
    "u_c_V = np.sqrt(u_i_V**2 + u_j_V**2)\n",
    "\n",
    "u_c_I = ERROR_I * I_MEAN / 2 # debido a q es una normal\n",
    "\n",
    "dR_dV = 1 / I_MEAN\n",
    "dR_dI = - V_MEAN / I_MEAN**2\n",
    "\n",
    "u_c_R = np.sqrt((dR_dV * u_c_V)**2 + (dR_dI * u_c_I)**2)\n",
    "\n",
    "K = 2\n",
    "print (\"R = {:.4f} +- {:.4f} @ 95%%; k = {:.2f}\".format(R_MEAN, u_c_R * K, K))\n",
    "\n",
    "print (\"Potencia disipada:\")\n",
    "\n",
    "P_MEAN = I_MEAN**2 * R_MEAN\n",
    "\n",
    "dP_dI = 2 * I_MEAN * R_MEAN\n",
    "dP_dR = I_MEAN**2\n",
    "\n",
    "u_c_P = np.sqrt((dP_dI * u_c_I)**2 + (dP_dR * u_c_R)**2)\n",
    "\n",
    "print (\"P = {:.4f} +- {:.4f} @ 95%%; k = {:.2f}\".format(P_MEAN, u_c_P * K, K))\n",
    "\n",
    "print (\"Hallare I:\")\n",
    "\n",
    "# I = V/R\n",
    "V_MEAN = .34642\n",
    "V_STD = .05\n",
    "\n",
    "I_MEAN = V_MEAN / R_MEAN\n",
    "\n",
    "u_i_V = V_STD\n",
    "u_j_V = (ERROR_LECTURA * V_MEAN / 100) + (.39999 * ERROR_DIGITOS / 39999) + V_MEAN / u_c_R \n",
    "\n",
    "u_c_V = np.sqrt(u_i_V**2 + u_j_V**2)\n",
    "\n",
    "P_MEAN = I_MEAN**2 * R_MEAN\n",
    "\n",
    "dI_dV = 1 / R_MEAN\n",
    "dI_dR = - V_MEAN / R_MEAN**2\n",
    "\n",
    "u_c_I = np.sqrt((dI_dV * u_c_V)**2 + (dI_dR * u_c_R)**2)\n",
    "\n",
    "print (\"I = {:.4f} +- {:.4f} @ 95%%; k = {:.2f}\".format(I_MEAN, u_c_I * K, K))\n",
    "\n",
    "print (\"Potencia disipada:\")\n",
    "\n",
    "u_c_P = np.sqrt((dP_dI * u_c_I)**2 + (dP_dR * u_c_R)**2)\n",
    "\n",
    "print (\"P = {:.4f} +- {:.4f} @ 95%%; k = {:.2f}\".format(P_MEAN, u_c_P * K, K))\n"
   ]
  }
 ],
 "metadata": {
  "kernelspec": {
   "display_name": "Python 3",
   "language": "python",
   "name": "python3"
  },
  "language_info": {
   "codemirror_mode": {
    "name": "ipython",
    "version": 3
   },
   "file_extension": ".py",
   "mimetype": "text/x-python",
   "name": "python",
   "nbconvert_exporter": "python",
   "pygments_lexer": "ipython3",
   "version": "3.8.10"
  }
 },
 "nbformat": 4,
 "nbformat_minor": 2
}
