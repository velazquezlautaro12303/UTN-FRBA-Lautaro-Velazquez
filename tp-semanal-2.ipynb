{
 "cells": [
  {
   "cell_type": "markdown",
   "metadata": {},
   "source": [
    "<img src=\"./logo_UTN.svg\" align=\"right\" width=\"150\" /> \n",
    "\n",
    "#### TP-Semanal 2\n",
    "\n",
    "### Enunciado\n",
    "\n",
    "<img src=\"./image5.png\">"
   ]
  },
  {
   "cell_type": "markdown",
   "metadata": {},
   "source": [
    "Consignas de la actividad:\n",
    "\n",
    "👉  Hallar la transferencia T=VoVi\n",
    "en función de ωo y Q\n",
    "\n",
    ".\n",
    "\n",
    "👉  Hallar los parámetros ωo\n",
    "y Q y k\n",
    "\n",
    ".\n",
    "\n",
    "👉  Obtener el valor de los componentes para que el circuito se comporte como un Butterworth de 2do orden.\n",
    "\n",
    "👉  Cómo podría obtener un filtro pasabajo Butterworth de 4to orden, a partir de un prototipo basado en este circuito, y que cumpla con |T(0)|=20dB\n",
    "\n",
    ".\n",
    "\n",
    "Bonus:\n",
    "\n",
    "    +10 💎 Obtener los valores de la red normalizados en frecuencia e impedancia.\n",
    "    +10  ⚽️ Simulación circuital de todos los experimentos.\n",
    "    +10  🎸 Cómo podría obtener un circuito pasabanda con los mismos componentes originales y con qué parámetros quedaría diseñado (Ver ejemplo 4.6 en Schaumann)."
   ]
  },
  {
   "cell_type": "markdown",
   "metadata": {},
   "source": [
    "### Obtencion de la T(S)\n",
    "\n",
    "$$ T(S) = \\frac {V_0} {V_i} $$\n",
    "Busco las ecuaciones con Norton:\n",
    "$$ - G_1 V_i - V_{01} (SC+G_2) - G_3 V_0 = 0 \\quad(1) $$\n",
    "$$ - G_3 V_{01} - SC V_{03} = 0 \\quad(2)$$\n",
    "$$ - G_4 V_{03} -G_4 V_0 = 0 \\quad(3)$$\n",
    "Obtengo de (3):\n",
    "$$ V_0 = - V_{03} $$\n",
    "Reemplazando (3) en (2):\n",
    "$$ V_{01} = \\frac {V_0 SC} {G_3} $$\n",
    "Reemplazando en (1)\n",
    "$$ -G_1V_i-\\frac{V_0 SC}{G_3}\\left(SC+G2\\right)-G_3V_0=0 $$\n",
    "Obtengo:\n",
    "$$ T(S) = -\\frac{G_1}{G_3} \\frac{\\left(\\frac{G_3}{C}\\right)^2}{S^2 + S \\frac{G_2}{C} + \\left(\\frac{G_3}{C}\\right)^2}\\quad(4)$$\n",
    "Los parametros son:\n",
    "$$ w_0 = \\frac{G_3}{C}\\quad(5)$$\n",
    "$$ Q = \\frac {G_3} {G_2}\\quad(6)$$\n",
    "$$ K = \\frac {G_1}{G_3}\\quad(7)$$\n",
    "Colocando (5), (6) y (7) en (4):\n",
    "$$ T(S) = \\frac{-Kw_o^2}{S^2+S\\frac{w_0}{Q}+w_0^2}\\quad(8)$$\n",
    "Entonces normalizando en freq:\n",
    "$$ \\$=\\frac{S}{w_0}\\quad(9)$$\n",
    "Reemplazando \n",
    "$$\\frac{V_0}{V_i}=\\frac{-K}{\\$^2+\\frac{\\$}{Q}+1}\\quad(10)$$\n",
    "La impedancia es:\n",
    "$$Z=R_1=\\frac{1}{G_1}\\quad(11)$$\n",
    "Normalizo en impedancia:\n",
    "$$Z'=\\frac{Z}{R_1}=1\\quad(12)$$\n",
    "Agregando la normalizacion de impedancia (12) en (10):\n",
    "$$T(S)=\\frac{-1}{\\$^2+\\frac{\\$}{Q}+1}\\quad(13)$$\n",
    "\n",
    "### Los valores para conseguir un buttherworth de segundo orden son:\n",
    "Dado que $Q=\\frac{1}{2cos(\\phi)}$, los polos para un segundo orden estan en $\\pi/4$ y $-\\pi/4$.\n",
    "Por lo tanto:\n",
    "$$Q=\\frac{1}{2cos(\\pi/4)}=\\frac{1}{\\sqrt{2}}\\quad(14)$$\n",
    "Reemplazando (14) en (13):\n",
    "$$T(S)=\\frac{-1}{\\$^2+\\$\\sqrt{2}+1}\\quad(15)$$\n",
    "Entonces para hacer que (13) satisfaga (15) y de la ecuacion (6), dado que $G_3$ aparece en todos lados, se establece $G_3=1$ y entonces $G_2=1/\\sqrt{2}$\n",
    "\n",
    "## Simulacion\n",
    "<img src=\"image7.png\">\n",
    "\n",
    "### Para obtener un buttherworth de 4to orden:\n",
    "Este se compone de dos transferencias, donde un par de polos esta a $S_1=\\pi/8$ y el otro $S_2=3\\pi/8$ entonces la T(S) queda:\n",
    "$$T(S)=\\frac{K^2}{(\\$^2+2\\$cos(\\pi/8)+1)(\\$^2+2\\$cos(3\\pi/8)+1)}$$\n",
    "\n",
    "## Simulacion\n",
    "<img src=\"image8.png\">\n",
    "<img src=\"image9.png\">"
   ]
  }
 ],
 "metadata": {
  "language_info": {
   "name": "python"
  }
 },
 "nbformat": 4,
 "nbformat_minor": 2
}
