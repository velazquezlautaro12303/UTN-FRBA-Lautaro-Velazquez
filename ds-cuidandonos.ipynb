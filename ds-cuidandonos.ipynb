{
 "cells": [
  {
   "cell_type": "markdown",
   "metadata": {},
   "source": [
    "##### DS TP: Cuidandonos\n",
    "\n",
    "#### Enunciado\n",
    "\n",
    "<img src=\"image20.png\">\n",
    "<img src=\"image21.png\">\n",
    "\n",
    "#### Resolucion\n",
    "### Pundo 1\n",
    "1) En la alternativa Cola de mensajes, la implementación se hará mediante Firebase el cual debido a usar herramientas externas no \n",
    "podremos tener todo el control total, en este caso debemos mantener el codigo adaptandonos a Firebase y a los cambios que este \n",
    "mismo presente en un futuro.\n",
    "Firebase está respaldado por la infraestructura de Google, lo que garantiza una alta disponibilidad.\n",
    "En la alternativa Proceso propio, , se necesita desarrollar y mantener un proceso propio para hacer llamadas REST al servidor central. \n",
    "Esto implica más trabajo de desarrollo y posiblemente más mantenimiento a largo plazo.\n",
    "La disponibilidad del proceso propio depende de la implementación y de la infraestructura del servidor central al que hace llamadas REST. \n",
    "Si el servidor central experimenta problemas de disponibilidad, el proceso propio también se verá afectado.\n",
    "\n",
    "<img src=\"image22.png\">\n",
    "\n",
    "b) Al proporcionar una capa de visualizacion de software ayuda al usuario a entenderlo, aprenderlo, usarlo de una forma atractiva \n",
    "aumentando la usabilidad.\n",
    "La lógica de negocio implementada en un servidor en la nube aumenta la seguridad.\n",
    "Delegar el calculo de la distancia a un componente de terceros asegura cumplir con la funcionalidad\n",
    "\n",
    "### Pundo 2\n",
    "## Resolucion a\n",
    "# Diagrama de Clases\n",
    "<img src=\"image23.png\">\n",
    "\n",
    "# Diagrama de Secuencia\n",
    "<img src=\"image24.png\">\n",
    "\n",
    "## Resolucion b\n",
    "<img src=\"image25.png\">"
   ]
  }
 ],
 "metadata": {
  "language_info": {
   "name": "python"
  }
 },
 "nbformat": 4,
 "nbformat_minor": 2
}
