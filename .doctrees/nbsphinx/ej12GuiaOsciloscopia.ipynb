{
 "cells": [
  {
   "cell_type": "code",
   "execution_count": 112,
   "metadata": {},
   "outputs": [],
   "source": [
    "from numpy import sqrt, radians, sin, pi, cos\n",
    "\n",
    "NV   = 4\n",
    "FCH1 = 1\n",
    "NI   = 3\n",
    "FCH2 = .01\n",
    "R    = 1\n",
    "K    = 10\n",
    "V    = NV * FCH1 * K\n",
    "I    = NI * FCH2 / R * K \n",
    "\n",
    "\n",
    "# Funcion de Medicion\n",
    "Z = V / I\n",
    "\n",
    "\n",
    "unvp   = 0.2 / (NV * sqrt(3))   # 0.2 es el ancho de la curva.\n",
    "ufch1p = .03 / sqrt(3)\n",
    "ukp    = .02 / sqrt(3)\n",
    "ucVp   = sqrt(unvp**2 + ufch1p**2 + ukp**2)\n",
    "\n",
    "\n",
    "unip   = 0.2 / (NI * sqrt(3))   # 0.2 es el ancho de la curva.\n",
    "ufch2p = .03 / sqrt(3)\n",
    "ukp    = .02 / sqrt(3)\n",
    "ur     = .01 / sqrt(3)  # Se agrega una incertidumbre a la Resistencia.\n",
    "ucIp   = sqrt(unip**2 + ufch1p**2 + ukp**2 + ur**2)\n",
    "\n",
    "\n",
    "ucZp = sqrt(ucVp**2 + ucIp**2)\n",
    "\n",
    "FVT = 1e-6\n",
    "T = 10 * FVT\n",
    "DELTA_T = - 8 * .2 * FVT\n",
    "PHASE_Z = DELTA_T * 360 / T # 10 es la cantidad de cuadrados en el periodo.\n",
    "\n",
    "\n",
    "errlecturadt = (.02 / abs(DELTA_T)) / sqrt(3)\n",
    "errlecturahorizontal = .03 / sqrt(3)\n",
    "errlecturaT = .2 / T / sqrt(3)\n",
    "\n",
    "ucdt  = sqrt(errlecturadt**2 + errlecturahorizontal**2)\n",
    "ucT   = sqrt(errlecturaT **2 + errlecturahorizontal**2)\n",
    "\n",
    "ucphi = sqrt(ucdt**2 + ucT**2)\n",
    "\n",
    "Xc = Z * sin(radians(PHASE_Z))\n",
    "C  = 1 / (Xc * 2 * pi * 1/T)\n",
    "\n",
    "Vg = 4\n",
    "P = Vg**2 / (Z * cos(radians(PHASE_Z)))\n",
    "S = Vg * I\n"
   ]
  },
  {
   "cell_type": "code",
   "execution_count": 113,
   "metadata": {},
   "outputs": [
    {
     "name": "stdout",
     "output_type": "stream",
     "text": [
      "133.33333333333334 15.119823196649572\n",
      "0.035590260840104374\n",
      "0.044137831257869346\n",
      "-1.0053096491487339\n",
      "-1.4137422642742686e-08\n",
      "-1.6e-06\n",
      "9.999999999999999e-06\n",
      "71.4435726638662\n",
      "1.2 0.22395296600406814\n"
     ]
    }
   ],
   "source": [
    "print (Z, ucZp * Z * 2)\n",
    "print (ucVp)\n",
    "print (ucIp)\n",
    "print (radians(PHASE_Z))\n",
    "print (C)\n",
    "print (DELTA_T)\n",
    "print (T)\n",
    "print (Z * cos(radians(PHASE_Z)))\n",
    "print (S, P)"
   ]
  },
  {
   "cell_type": "code",
   "execution_count": 114,
   "metadata": {},
   "outputs": [],
   "source": [
    "Spmax   = 92*1e-3\n",
    "Spmin   = -28*1e-3\n",
    "\n",
    "P_media = (Spmax + Spmin) / 2\n",
    "\n",
    "Vrms = Vg / sqrt(2)\n",
    "Irms = I / K / sqrt(2)\n",
    "\n",
    "S  = Vrms * Irms\n",
    "Q  = sqrt(S**2 - P_media**2)\n",
    "\n",
    "XC = Q / Irms**2\n",
    "C  = T / (2 * pi * XC)"
   ]
  },
  {
   "cell_type": "code",
   "execution_count": 115,
   "metadata": {},
   "outputs": [
    {
     "name": "stdout",
     "output_type": "stream",
     "text": [
      "0.3\n",
      "2.82842712474619 0.021213203435596423\n",
      "0.05999999999999999 0.032 0.05075431016179807\n",
      "112.78735591510686 1.4111062521200387e-08\n"
     ]
    }
   ],
   "source": [
    "print (I)\n",
    "print (Vrms, Irms)\n",
    "print (S, P_media, Q)\n",
    "print (XC, C)"
   ]
  }
 ],
 "metadata": {
  "kernelspec": {
   "display_name": "Python 3",
   "language": "python",
   "name": "python3"
  },
  "language_info": {
   "codemirror_mode": {
    "name": "ipython",
    "version": 3
   },
   "file_extension": ".py",
   "mimetype": "text/x-python",
   "name": "python",
   "nbconvert_exporter": "python",
   "pygments_lexer": "ipython3",
   "version": "3.10.12"
  }
 },
 "nbformat": 4,
 "nbformat_minor": 2
}
