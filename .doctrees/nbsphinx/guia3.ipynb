{
 "cells": [
  {
   "cell_type": "markdown",
   "metadata": {},
   "source": [
    "#### Ejercicio1"
   ]
  },
  {
   "cell_type": "code",
   "execution_count": 29,
   "metadata": {},
   "outputs": [],
   "source": [
    "from numpy import pi, sqrt\n",
    "\n",
    "RANGO = 2\n",
    "\n",
    "ERROR_LECTURA_V1 = .05\n",
    "ERROR_DIGITOS_V1 = 2\n",
    "Vi1 = .850\n",
    "\n",
    "ERROR_LECTURA_V2 = .05\n",
    "ERROR_DIGITOS_V2 = 2\n",
    "Vi2 = .553\n",
    "\n",
    "ERROR_LECTURA_V3 = .5\n",
    "ERROR_DIGITOS_V3 = 2\n",
    "Vi3 = .36\n",
    "\n",
    "delta = Vi2 / (pi * Vi1)\n",
    "\n",
    "def cuentas(indicado, rango):\n",
    "    return indicado / rango * 1000\n",
    "\n",
    "u_Vi1_rel = (ERROR_LECTURA_V1 + ERROR_DIGITOS_V1 / cuentas(Vi1, RANGO) * 100) / sqrt(3)\n",
    "u_Vi2_rel = (ERROR_LECTURA_V2 + ERROR_DIGITOS_V2 / cuentas(Vi2, RANGO) * 100) / sqrt(3)\n",
    "u_c_delta_rel = sqrt(u_Vi1_rel**2 + u_Vi2_rel**2)\n",
    "u_c_delta = u_c_delta_rel * delta / 100\n"
   ]
  },
  {
   "cell_type": "markdown",
   "metadata": {},
   "source": [
    "Valor indicado q responde a multimetro valor maximo.\n",
    "$$S_i=S_{pp}(1-\\delta)\\frac{1}{\\sqrt{2}}$$\n",
    "\n",
    "Valor indicado q responde a multimetro valor medio.\n",
    "$$S_i=S_{pp}(1-\\delta)\\delta\\frac{\\pi}{\\sqrt{2}}$$\n",
    "\n",
    "Valor medio.\n",
    "$$S_i=S_{m+}\\delta-S_{m-}(1-\\delta)$$\n",
    "\n",
    "$$\\delta=\\frac{S_{i_{|med|}}}{\\pi S_{i_{max}}}$$\n",
    "\n"
   ]
  },
  {
   "cell_type": "code",
   "execution_count": 30,
   "metadata": {},
   "outputs": [
    {
     "name": "stdout",
     "output_type": "stream",
     "text": [
      "delta = 0.207 +- 0.002 @ 95% k = 2\n"
     ]
    }
   ],
   "source": [
    "print (\"delta = %.3f +- %.3f @ 95%% k = 2\" % (delta, u_c_delta * 2))"
   ]
  },
  {
   "cell_type": "markdown",
   "metadata": {},
   "source": [
    "#### Ejercicio2"
   ]
  },
  {
   "cell_type": "code",
   "execution_count": 42,
   "metadata": {},
   "outputs": [],
   "source": [
    "Vi_DC = 0.953\n",
    "Vi_AC = 1.057\n",
    "\n",
    "RANGO = 4\n",
    "\n",
    "STD_DC = 1e-2\n",
    "STD_AC = .025\n",
    "\n",
    "ERROR_LECTURA_DC = .8\n",
    "ERROR_LECTURA_AC = 1\n",
    "\n",
    "ERROR_CUENTAS_DC = 1\n",
    "ERROR_CUENTAS_AC = 5\n",
    "\n",
    "CANT_MEDICIONES_AC = 5\n",
    "CANT_MEDICIONES_DC = 5\n",
    "\n",
    "def cuentas(indicado, rango):\n",
    "    return indicado / rango * 1000\n",
    "\n",
    "Vp_minus = Vi_DC - 8 * sqrt(2) * Vi_AC / pi\n",
    "Vp_plus  = Vi_DC + 8 * sqrt(2) * Vi_AC / pi\n",
    "\n",
    "u_V_AC_A = STD_AC / sqrt(CANT_MEDICIONES_AC)\n",
    "u_V_DC_A = STD_DC / sqrt(CANT_MEDICIONES_DC)\n",
    "\n",
    "u_V_AC_B = (ERROR_LECTURA_AC / 100 * Vi_AC + ERROR_CUENTAS_AC / cuentas(Vi_AC, RANGO) * Vi_AC) / sqrt(3)\n",
    "u_V_DC_B = (ERROR_LECTURA_DC / 100 * Vi_DC + ERROR_CUENTAS_DC / cuentas(Vi_DC, RANGO) * Vi_DC) / sqrt(3)\n",
    "\n",
    "u_V_pp = sqrt(u_V_AC_A**2 + u_V_AC_B**2)\n",
    "u_V_DC = sqrt(u_V_DC_A**2 + u_V_DC_B**2)\n",
    "\n",
    "dVp_dVpp = .5\n",
    "dVp_dVDC = 1\n",
    "\n",
    "u_c_Vp = sqrt(dVp_dVDC**2 * u_V_DC**2 + dVp_dVpp**2 * u_V_pp**2)\n",
    "\n",
    "# V_eff = (u_c_Vp**4) / ((dVp_dVDC * u_V_DC_A)**4 / CANT_MEDICIONES_DC + (dVp_dVpp * u_V_AC_A)**4 / CANT_MEDICIONES_AC)\n",
    "# print (V_eff)\n",
    "\n",
    "# V_eff = (u_V_DC**4) / ((u_V_DC_A)**4 / CANT_MEDICIONES_DC)\n",
    "# print (V_eff)\n",
    "\n",
    "# V_eff = (u_V_pp**4) / ((u_V_AC_A)**4 / CANT_MEDICIONES_DC)\n",
    "# print (V_eff)"
   ]
  },
  {
   "cell_type": "markdown",
   "metadata": {},
   "source": [
    "$$S_{i_{AC}}=\\frac{V_{pp}}{4}\\frac{\\pi}{2\\sqrt{2}}$$\n",
    "$$V_{p+}=V_{DC}+\\frac{V_{pp}}{2}$$\n",
    "$$V_{p-}=V_{DC}-\\frac{V_{pp}}{2}$$"
   ]
  },
  {
   "cell_type": "code",
   "execution_count": 43,
   "metadata": {},
   "outputs": [
    {
     "name": "stdout",
     "output_type": "stream",
     "text": [
      "-2.853537384712245 0.02639440852402897\n",
      "4.759537384712245 0.02639440852402897\n"
     ]
    }
   ],
   "source": [
    "# print (u_V_DC_A, u_V_DC_B)\n",
    "# print (u_V_AC_A, u_V_AC_B)\n",
    "# print (Vp_plus, u_c_Vp)\n",
    "# print (Vp_minus, u_c_Vp)\n",
    "print (Vp_minus, u_c_Vp * 2)\n",
    "print (Vp_plus, u_c_Vp * 2)"
   ]
  }
 ],
 "metadata": {
  "kernelspec": {
   "display_name": "Python 3",
   "language": "python",
   "name": "python3"
  },
  "language_info": {
   "codemirror_mode": {
    "name": "ipython",
    "version": 3
   },
   "file_extension": ".py",
   "mimetype": "text/x-python",
   "name": "python",
   "nbconvert_exporter": "python",
   "pygments_lexer": "ipython3",
   "version": "3.10.12"
  }
 },
 "nbformat": 4,
 "nbformat_minor": 2
}
